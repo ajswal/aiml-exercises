{
 "cells": [
  {
   "cell_type": "markdown",
   "id": "2bcf4db3",
   "metadata": {},
   "source": [
    "### In this notebook I have covered Bert Model for data classification\n",
    "\n",
    "I have used pretrained model 'bert-base-uncased' from Hugging Face https://huggingface.co/bert-base-uncased\n",
    "\n",
    "\n",
    "The dataset used is from kaggle - https://www.kaggle.com/competitions/jigsaw-toxic-comment-classification-challenge/data\n",
    "\n",
    "The data have been pre-processed for formating issue using re library.\n",
    "\n",
    "I have also used examples from Live Customer interactions's with ChatBot application.\n",
    "\n",
    "The Kaggle dataset contains 6 different concent moderation categories - toxic, severe_toxic, obscene threat, insult, identity_hate\n",
    "\n",
    "I have created the model for identity_hate. Using identity_hate class helped in using the Real World data, as that data is tagged manually by our customer care representatives for this class making it available for evaluating the perforamnce of the model"
   ]
  },
  {
   "cell_type": "code",
   "execution_count": 112,
   "id": "98b6c879",
   "metadata": {},
   "outputs": [],
   "source": [
    "# Load Huggingface transformers\n",
    "from transformers import TFBertModel,  BertConfig, BertTokenizerFast, TFAutoModel\n",
    "\n",
    "# tensorflow.keras\n",
    "from tensorflow.keras.layers import Input, Dropout, Dense, GlobalAveragePooling1D\n",
    "from tensorflow.keras.models import Model\n",
    "from tensorflow.keras.optimizers import Adam\n",
    "from tensorflow.keras.callbacks import EarlyStopping\n",
    "from tensorflow.keras.initializers import TruncatedNormal\n",
    "from tensorflow.keras.losses import CategoricalCrossentropy\n",
    "from tensorflow.keras.metrics import CategoricalAccuracy\n",
    "from tensorflow.keras.utils import to_categorical\n",
    "import pandas as pd\n",
    "import tensorflow as tf\n",
    "import re\n",
    "import numpy as np\n",
    "import matplotlib.pyplot as plt\n",
    "\n",
    "from sklearn.model_selection import train_test_split\n",
    "\n",
    "from sklearn import set_config\n",
    "set_config(display=\"diagram\")\n",
    "\n",
    "import warnings\n",
    "warnings.filterwarnings(\"ignore\")"
   ]
  },
  {
   "cell_type": "code",
   "execution_count": 27,
   "id": "e16d1b1d",
   "metadata": {},
   "outputs": [],
   "source": [
    "train_table =pd.read_csv('data/train.csv')"
   ]
  },
  {
   "cell_type": "code",
   "execution_count": 28,
   "id": "d5d8d1de",
   "metadata": {},
   "outputs": [],
   "source": [
    "df = train_table.query('identity_hate != 0')\n",
    "df_n = train_table.query('identity_hate == 0')"
   ]
  },
  {
   "cell_type": "code",
   "execution_count": 29,
   "id": "6db1f71c",
   "metadata": {},
   "outputs": [
    {
     "data": {
      "text/plain": [
       "<AxesSubplot:>"
      ]
     },
     "execution_count": 29,
     "metadata": {},
     "output_type": "execute_result"
    },
    {
     "data": {
      "image/png": "[encoded data removed]",
      "text/plain": [
       "<Figure size 432x288 with 1 Axes>"
      ]
     },
     "metadata": {
      "needs_background": "light"
     },
     "output_type": "display_data"
    }
   ],
   "source": [
    "#Count of class identity_hate\n",
    "df.identity_hate.value_counts().sort_values().plot(kind = 'bar')"
   ]
  },
  {
   "cell_type": "code",
   "execution_count": 30,
   "id": "00faa249",
   "metadata": {},
   "outputs": [
    {
     "data": {
      "text/plain": [
       "<AxesSubplot:>"
      ]
     },
     "execution_count": 30,
     "metadata": {},
     "output_type": "execute_result"
    },
    {
     "data": {
      "image/png": "[encoded data removed]",
      "text/plain": [
       "<Figure size 432x288 with 1 Axes>"
      ]
     },
     "metadata": {
      "needs_background": "light"
     },
     "output_type": "display_data"
    }
   ],
   "source": [
    "#Count of class non identity_hate\n",
    "df_n.identity_hate.value_counts().sort_values().plot(kind = 'bar')"
   ]
  },
  {
   "cell_type": "code",
   "execution_count": 31,
   "id": "0db9e8c9",
   "metadata": {},
   "outputs": [],
   "source": [
    "df = df.append(df_n[:2500])"
   ]
  },
  {
   "cell_type": "code",
   "execution_count": 32,
   "id": "ec8cd712",
   "metadata": {},
   "outputs": [
    {
     "data": {
      "text/plain": [
       "<AxesSubplot:>"
      ]
     },
     "execution_count": 32,
     "metadata": {},
     "output_type": "execute_result"
    },
    {
     "data": {
      "image/png": "[encoded data removed]",
      "text/plain": [
       "<Figure size 432x288 with 1 Axes>"
      ]
     },
     "metadata": {
      "needs_background": "light"
     },
     "output_type": "display_data"
    }
   ],
   "source": [
    "#Check for class imbalance now in the final dataset used for training\n",
    "df.identity_hate.value_counts(normalize = True)\n",
    "df.identity_hate.value_counts().sort_values().plot(kind = 'bar')"
   ]
  },
  {
   "cell_type": "code",
   "execution_count": 33,
   "id": "1f94fb64",
   "metadata": {},
   "outputs": [
    {
     "name": "stdout",
     "output_type": "stream",
     "text": [
      "<class 'pandas.core.frame.DataFrame'>\n",
      "Int64Index: 4110 entries, 42 to 2528\n",
      "Data columns (total 8 columns):\n",
      " #   Column         Non-Null Count  Dtype \n",
      "---  ------         --------------  ----- \n",
      " 0   id             4110 non-null   object\n",
      " 1   comment_text   4110 non-null   object\n",
      " 2   toxic          4110 non-null   int64 \n",
      " 3   severe_toxic   4110 non-null   int64 \n",
      " 4   obscene        4110 non-null   int64 \n",
      " 5   threat         4110 non-null   int64 \n",
      " 6   insult         4110 non-null   int64 \n",
      " 7   identity_hate  4110 non-null   int64 \n",
      "dtypes: int64(6), object(2)\n",
      "memory usage: 289.0+ KB\n"
     ]
    }
   ],
   "source": [
    "# The dataset contains other classes as well but we are building our model to identify only identity_hate class\n",
    "df.info()"
   ]
  },
  {
   "cell_type": "markdown",
   "id": "9050ada4",
   "metadata": {},
   "source": [
    "## Data pre-processing"
   ]
  },
  {
   "cell_type": "code",
   "execution_count": 34,
   "id": "b17195e7",
   "metadata": {},
   "outputs": [],
   "source": [
    "\n",
    "def clean_text(text):\n",
    "    text = text.lower()\n",
    "    text = re.sub(r\"what's\", \"what is \", text)\n",
    "    text = re.sub(r\"\\'s\", \" \", text)\n",
    "    text = re.sub(r\"\\'ve\", \" have \", text)\n",
    "    text = re.sub(r\"can't\", \"cannot \", text)\n",
    "    text = re.sub(r\"n't\", \" not \", text)\n",
    "    text = re.sub(r\"i'm\", \"i am \", text)\n",
    "    text = re.sub(r\"\\'re\", \" are \", text)\n",
    "    text = re.sub(r\"\\'d\", \" would \", text)\n",
    "    text = re.sub(r\"\\'ll\", \" will \", text)\n",
    "    text = re.sub(r\"\\'scuse\", \" excuse \", text)\n",
    "    text = re.sub('\\W', ' ', text)\n",
    "    text = re.sub('\\s+', ' ', text)\n",
    "    text = text.strip(' ')\n",
    "    return text"
   ]
  },
  {
   "cell_type": "code",
   "execution_count": 35,
   "id": "93645c36",
   "metadata": {},
   "outputs": [],
   "source": [
    "df['comment_text'] = df['comment_text'].map(lambda x : clean_text(x))\n"
   ]
  },
  {
   "cell_type": "code",
   "execution_count": 36,
   "id": "12dc0d67",
   "metadata": {},
   "outputs": [],
   "source": [
    "train_sentences = df[\"comment_text\"].fillna(\"CVxTz\").values\n",
    "list_classes = [ \"identity_hate\"]\n",
    "train_y = df[list_classes].values"
   ]
  },
  {
   "cell_type": "code",
   "execution_count": 37,
   "id": "82af5a22",
   "metadata": {},
   "outputs": [
    {
     "data": {
      "text/plain": [
       "(4110,)"
      ]
     },
     "execution_count": 37,
     "metadata": {},
     "output_type": "execute_result"
    }
   ],
   "source": [
    "train_sentences.shape\n"
   ]
  },
  {
   "cell_type": "code",
   "execution_count": 41,
   "id": "228f6d80",
   "metadata": {},
   "outputs": [
    {
     "name": "stdout",
     "output_type": "stream",
     "text": [
      "<class 'set'>\n",
      "<wordcloud.wordcloud.WordCloud object at 0x13abbc820>\n"
     ]
    },
    {
     "data": {
      "image/png": "[encoded data removed]",
      "text/plain": [
       "<Figure size 432x288 with 1 Axes>"
      ]
     },
     "metadata": {
      "needs_background": "light"
     },
     "output_type": "display_data"
    }
   ],
   "source": [
    "# world cloud for identity_hate class\n",
    "from wordcloud import WordCloud, STOPWORDS\n",
    "stopwords = set(STOPWORDS)\n",
    "stopwords.add(\"RT\")\n",
    "\n",
    "print(type(STOPWORDS))\n",
    "\n",
    "import random\n",
    "\n",
    "def random_color_func(word=None, font_size=None, position=None,  orientation=None, font_path=None, random_state=None):\n",
    "    h = 344\n",
    "    s = int(100.0 * 255.0 / 255.0)\n",
    "    l = int(100.0 * float(random_state.randint(60, 120)) / 255.0)\n",
    "    return \"hsl({}, {}%, {}%)\".format(h, s, l)\n",
    "\n",
    "wordcloud = WordCloud(\n",
    "                          background_color='white',\n",
    "                          stopwords=stopwords,\n",
    "                          max_words=200,\n",
    "                          max_font_size=60, \n",
    "                          random_state=42\n",
    "                         ).generate(str(df.loc[df[\"identity_hate\"]==1].comment_text))\n",
    "print(wordcloud)\n",
    "fig = plt.figure(1)\n",
    "plt.imshow(wordcloud.recolor(color_func= random_color_func, random_state=3),\n",
    "           interpolation=\"bilinear\")\n",
    "plt.axis('off')\n",
    "plt.show()"
   ]
  },
  {
   "cell_type": "code",
   "execution_count": 42,
   "id": "192a575c",
   "metadata": {},
   "outputs": [
    {
     "name": "stdout",
     "output_type": "stream",
     "text": [
      "<class 'set'>\n",
      "<wordcloud.wordcloud.WordCloud object at 0x13b4144f0>\n"
     ]
    },
    {
     "data": {
      "image/png": "[encoded data removed]",
      "text/plain": [
       "<Figure size 432x288 with 1 Axes>"
      ]
     },
     "metadata": {
      "needs_background": "light"
     },
     "output_type": "display_data"
    }
   ],
   "source": [
    "# world cloud for non identity_hate class\n",
    "\n",
    "from wordcloud import WordCloud, STOPWORDS\n",
    "stopwords = set(STOPWORDS)\n",
    "stopwords.add(\"RT\")\n",
    "\n",
    "print(type(STOPWORDS))\n",
    "\n",
    "import random\n",
    "\n",
    "def random_color_func(word=None, font_size=None, position=None,  orientation=None, font_path=None, random_state=None):\n",
    "    h = 344\n",
    "    s = int(100.0 * 255.0 / 255.0)\n",
    "    l = int(100.0 * float(random_state.randint(60, 120)) / 255.0)\n",
    "    return \"hsl({}, {}%, {}%)\".format(h, s, l)\n",
    "\n",
    "wordcloud = WordCloud(\n",
    "                          background_color='white',\n",
    "                          stopwords=stopwords,\n",
    "                          max_words=200,\n",
    "                          max_font_size=60, \n",
    "                          random_state=42\n",
    "                         ).generate(str(df.loc[df[\"identity_hate\"]==0].comment_text))\n",
    "print(wordcloud)\n",
    "fig = plt.figure(1)\n",
    "plt.imshow(wordcloud.recolor(color_func= random_color_func, random_state=3),\n",
    "           interpolation=\"bilinear\")\n",
    "plt.axis('off')\n",
    "plt.show()"
   ]
  },
  {
   "cell_type": "markdown",
   "id": "2bb0f71e",
   "metadata": {},
   "source": [
    "## **Using the  bert-base-uncased  from Hugging Face https://huggingface.co/bert-base-uncased**\n",
    "\n",
    "### Pretrained model on English language using a masked language modeling (MLM) objective. It was introduced in this paper  https://arxiv.org/abs/1810.04805 and first released in this repository https://github.com/google-research/bert . This model is uncased: it does not make a difference between english and English.\n"
   ]
  },
  {
   "cell_type": "code",
   "execution_count": 43,
   "id": "3cbba34c",
   "metadata": {},
   "outputs": [
    {
     "name": "stderr",
     "output_type": "stream",
     "text": [
      "Some layers from the model checkpoint at bert-base-uncased were not used when initializing TFBertModel: ['mlm___cls', 'nsp___cls']\n",
      "- This IS expected if you are initializing TFBertModel from the checkpoint of a model trained on another task or with another architecture (e.g. initializing a BertForSequenceClassification model from a BertForPreTraining model).\n",
      "- This IS NOT expected if you are initializing TFBertModel from the checkpoint of a model that you expect to be exactly identical (initializing a BertForSequenceClassification model from a BertForSequenceClassification model).\n",
      "All the layers of TFBertModel were initialized from the model checkpoint at bert-base-uncased.\n",
      "If your task is similar to the task the model of the checkpoint was trained on, you can already use TFBertModel for predictions without further training.\n"
     ]
    }
   ],
   "source": [
    "# Name of the BERT model to use\n",
    "model_name = 'bert-base-uncased'\n",
    "\n",
    "# Max length of tokens\n",
    "max_length = 128 # max 512\n",
    "\n",
    "# Load transformers config and set output_hidden_states to False\n",
    "config = BertConfig.from_pretrained(model_name)\n",
    "#config.output_hidden_states = False\n",
    "\n",
    "# Load BERT tokenizer\n",
    "tokenizer = BertTokenizerFast.from_pretrained(pretrained_model_name_or_path = model_name, config = config)\n",
    "bert = TFAutoModel.from_pretrained(model_name)"
   ]
  },
  {
   "cell_type": "code",
   "execution_count": 44,
   "id": "687a1e00",
   "metadata": {},
   "outputs": [],
   "source": [
    "input_ids = Input(shape=(max_length,), name='input_ids', dtype='int32')\n",
    "attention_mask = Input(shape=(max_length,), name='attention_mask', dtype='int32') \n",
    "inputs = {'input_ids': input_ids, 'attention_mask': attention_mask}\n",
    "x = bert.bert(inputs)"
   ]
  },
  {
   "cell_type": "code",
   "execution_count": 45,
   "id": "f4570ba4",
   "metadata": {},
   "outputs": [
    {
     "data": {
      "text/plain": [
       "<KerasTensor: shape=(None, 128) dtype=int32 (created by layer 'input_ids')>"
      ]
     },
     "execution_count": 45,
     "metadata": {},
     "output_type": "execute_result"
    }
   ],
   "source": [
    "input_ids"
   ]
  },
  {
   "cell_type": "code",
   "execution_count": 46,
   "id": "5a3f3e0c",
   "metadata": {},
   "outputs": [
    {
     "data": {
      "text/plain": [
       "<KerasTensor: shape=(None, 128) dtype=int32 (created by layer 'attention_mask')>"
      ]
     },
     "execution_count": 46,
     "metadata": {},
     "output_type": "execute_result"
    }
   ],
   "source": [
    "attention_mask"
   ]
  },
  {
   "cell_type": "code",
   "execution_count": 47,
   "id": "49beccd5",
   "metadata": {},
   "outputs": [
    {
     "data": {
      "text/plain": [
       "TFBaseModelOutputWithPoolingAndCrossAttentions(last_hidden_state=<KerasTensor: shape=(None, 128, 768) dtype=float32 (created by layer 'bert')>, pooler_output=<KerasTensor: shape=(None, 768) dtype=float32 (created by layer 'bert')>, past_key_values=None, hidden_states=None, attentions=None, cross_attentions=None)"
      ]
     },
     "execution_count": 47,
     "metadata": {},
     "output_type": "execute_result"
    }
   ],
   "source": [
    "x"
   ]
  },
  {
   "cell_type": "code",
   "execution_count": 48,
   "id": "1edf5e6b",
   "metadata": {},
   "outputs": [
    {
     "name": "stdout",
     "output_type": "stream",
     "text": [
      "Model: \"model_1\"\n",
      "__________________________________________________________________________________________________\n",
      " Layer (type)                   Output Shape         Param #     Connected to                     \n",
      "==================================================================================================\n",
      " attention_mask (InputLayer)    [(None, 128)]        0           []                               \n",
      "                                                                                                  \n",
      " input_ids (InputLayer)         [(None, 128)]        0           []                               \n",
      "                                                                                                  \n",
      " bert (TFBertMainLayer)         TFBaseModelOutputWi  109482240   ['attention_mask[0][0]',         \n",
      "                                thPoolingAndCrossAt               'input_ids[0][0]']              \n",
      "                                tentions(last_hidde                                               \n",
      "                                n_state=(None, 128,                                               \n",
      "                                 768),                                                            \n",
      "                                 pooler_output=(Non                                               \n",
      "                                e, 768),                                                          \n",
      "                                 past_key_values=No                                               \n",
      "                                ne, hidden_states=N                                               \n",
      "                                one, attentions=Non                                               \n",
      "                                e, cross_attentions                                               \n",
      "                                =None)                                                            \n",
      "                                                                                                  \n",
      " global_average_pooling1d_1 (Gl  (None, 768)         0           ['bert[0][0]']                   \n",
      " obalAveragePooling1D)                                                                            \n",
      "                                                                                                  \n",
      " outputs (Dense)                (None, 1)            769         ['global_average_pooling1d_1[0][0\n",
      "                                                                 ]']                              \n",
      "                                                                                                  \n",
      "==================================================================================================\n",
      "Total params: 109,483,009\n",
      "Trainable params: 109,483,009\n",
      "Non-trainable params: 0\n",
      "__________________________________________________________________________________________________\n"
     ]
    }
   ],
   "source": [
    "x2 = GlobalAveragePooling1D()(x[0])\n",
    "y =Dense(len(list_classes), activation='sigmoid', name='outputs')(x2)\n",
    "\n",
    "model = Model(inputs=inputs, outputs=y)\n",
    "\n",
    "# Take a look at the model\n",
    "model.summary()"
   ]
  },
  {
   "cell_type": "code",
   "execution_count": 49,
   "id": "a911d837",
   "metadata": {},
   "outputs": [],
   "source": [
    "optimizer = Adam(learning_rate=3e-5, epsilon=1e-08, clipnorm=1.0)\n",
    "model.compile(loss='binary_crossentropy',\n",
    "                  optimizer=optimizer,\n",
    "                  metrics=['accuracy'])"
   ]
  },
  {
   "cell_type": "code",
   "execution_count": 50,
   "id": "c96953fa",
   "metadata": {},
   "outputs": [],
   "source": [
    "# Tokenize the input \n",
    "x = tokenizer(\n",
    "    text=list(train_sentences),\n",
    "    add_special_tokens=True,\n",
    "    max_length=max_length,\n",
    "    truncation=True,\n",
    "    padding='max_length', \n",
    "    return_tensors='tf',\n",
    "    return_token_type_ids = False,\n",
    "    return_attention_mask = True,\n",
    "    verbose = True)"
   ]
  },
  {
   "cell_type": "code",
   "execution_count": 51,
   "id": "ecf92e0f",
   "metadata": {},
   "outputs": [
    {
     "name": "stdout",
     "output_type": "stream",
     "text": [
      "WARNING:tensorflow:Gradients do not exist for variables ['tf_bert_model_1/bert/pooler/dense/kernel:0', 'tf_bert_model_1/bert/pooler/dense/bias:0'] when minimizing the loss. If you're using `model.compile()`, did you forget to provide a `loss` argument?\n",
      "WARNING:tensorflow:Gradients do not exist for variables ['tf_bert_model_1/bert/pooler/dense/kernel:0', 'tf_bert_model_1/bert/pooler/dense/bias:0'] when minimizing the loss. If you're using `model.compile()`, did you forget to provide a `loss` argument?\n",
      "116/116 [==============================] - 2100s 18s/step - loss: 0.2177 - accuracy: 0.9086 - val_loss: 0.2323 - val_accuracy: 0.9173\n"
     ]
    }
   ],
   "source": [
    "history = model.fit(\n",
    "    x={'input_ids': x['input_ids'], 'attention_mask': x['attention_mask']},\n",
    "    #x={'input_ids': x['input_ids']},\n",
    "    y={'outputs': train_y},\n",
    "    validation_split=0.1,\n",
    "    batch_size=32,\n",
    "    epochs=1)"
   ]
  },
  {
   "cell_type": "markdown",
   "id": "fae07b41",
   "metadata": {},
   "source": [
    "### The val_accuracy is .9611 , which is better then the other model (Logistic Regression , Decision Tree ) we have trained earlier"
   ]
  },
  {
   "cell_type": "markdown",
   "id": "64dce651",
   "metadata": {},
   "source": [
    "## Testing the model on real world data\n",
    "### I have taken examples from Live Customer interactions's with ChatBot application.\n",
    "### Created two evaluation dataset\n",
    "#### 1 - This has normal utterances Non identity_hate\n",
    "\n",
    "#### 2 - This has utterances which were identified as egregious and fall under identity_hate class\n",
    "\n",
    "### The dataset was manually tagged by our customer care representatives who interact with customers on a daily basis"
   ]
  },
  {
   "cell_type": "code",
   "execution_count": 95,
   "id": "a7905568",
   "metadata": {},
   "outputs": [],
   "source": [
    "# First loading the dataset with Normal utterances\n",
    "eval_normal = pd.read_csv('data/evaluate_normal_utterances.csv')"
   ]
  },
  {
   "cell_type": "code",
   "execution_count": 96,
   "id": "c6ca2135",
   "metadata": {},
   "outputs": [
    {
     "name": "stdout",
     "output_type": "stream",
     "text": [
      "<class 'pandas.core.frame.DataFrame'>\n",
      "RangeIndex: 133 entries, 0 to 132\n",
      "Data columns (total 2 columns):\n",
      " #   Column         Non-Null Count  Dtype \n",
      "---  ------         --------------  ----- \n",
      " 0   Text           133 non-null    object\n",
      " 1   identity_hate  133 non-null    int64 \n",
      "dtypes: int64(1), object(1)\n",
      "memory usage: 2.2+ KB\n"
     ]
    }
   ],
   "source": [
    "eval_normal.info()"
   ]
  },
  {
   "cell_type": "code",
   "execution_count": 97,
   "id": "fbeec579",
   "metadata": {},
   "outputs": [
    {
     "data": {
      "text/html": [
       "<div>\n",
       "<style scoped>\n",
       "    .dataframe tbody tr th:only-of-type {\n",
       "        vertical-align: middle;\n",
       "    }\n",
       "\n",
       "    .dataframe tbody tr th {\n",
       "        vertical-align: top;\n",
       "    }\n",
       "\n",
       "    .dataframe thead th {\n",
       "        text-align: right;\n",
       "    }\n",
       "</style>\n",
       "<table border=\"1\" class=\"dataframe\">\n",
       "  <thead>\n",
       "    <tr style=\"text-align: right;\">\n",
       "      <th></th>\n",
       "      <th>Text</th>\n",
       "      <th>identity_hate</th>\n",
       "    </tr>\n",
       "  </thead>\n",
       "  <tbody>\n",
       "    <tr>\n",
       "      <th>0</th>\n",
       "      <td>I need to cancel my last order! I dont know wh...</td>\n",
       "      <td>0</td>\n",
       "    </tr>\n",
       "    <tr>\n",
       "      <th>1</th>\n",
       "      <td>How do I cancel an automatic payment</td>\n",
       "      <td>0</td>\n",
       "    </tr>\n",
       "    <tr>\n",
       "      <th>2</th>\n",
       "      <td>How do I cancel the transfer</td>\n",
       "      <td>0</td>\n",
       "    </tr>\n",
       "  </tbody>\n",
       "</table>\n",
       "</div>"
      ],
      "text/plain": [
       "                                                Text  identity_hate\n",
       "0  I need to cancel my last order! I dont know wh...              0\n",
       "1               How do I cancel an automatic payment              0\n",
       "2                       How do I cancel the transfer              0"
      ]
     },
     "execution_count": 97,
     "metadata": {},
     "output_type": "execute_result"
    }
   ],
   "source": [
    "eval_normal.head(3)"
   ]
  },
  {
   "cell_type": "code",
   "execution_count": 98,
   "id": "b75ddd46",
   "metadata": {},
   "outputs": [],
   "source": [
    "normal_test_sentences = eval_normal[\"Text\"].fillna(\"CVxTz\").values\n",
    "list_classes = [ \"identity_hate\"]\n",
    "normal_test_y = eval_normal[list_classes].values"
   ]
  },
  {
   "cell_type": "code",
   "execution_count": 99,
   "id": "1cbc9ec7",
   "metadata": {},
   "outputs": [],
   "source": [
    "norm_test_x = tokenizer(\n",
    "    text=list(normal_test_sentences),\n",
    "    add_special_tokens=True,\n",
    "    max_length=max_length,\n",
    "    truncation=True,\n",
    "    padding='max_length', # padding=True initial value,\n",
    "    return_tensors='tf',\n",
    "    return_token_type_ids = False,\n",
    "    return_attention_mask = True,\n",
    "    verbose = True)"
   ]
  },
  {
   "cell_type": "code",
   "execution_count": 100,
   "id": "84ebd69e",
   "metadata": {},
   "outputs": [
    {
     "name": "stdout",
     "output_type": "stream",
     "text": [
      "5/5 [==============================] - 13s 2s/step\n"
     ]
    }
   ],
   "source": [
    "norm_results = model.predict(x={'input_ids': norm_test_x['input_ids'], 'attention_mask': norm_test_x['attention_mask']},\n",
    "                             batch_size=32)"
   ]
  },
  {
   "cell_type": "code",
   "execution_count": 101,
   "id": "48d13b1c",
   "metadata": {},
   "outputs": [
    {
     "data": {
      "text/html": [
       "<div>\n",
       "<style scoped>\n",
       "    .dataframe tbody tr th:only-of-type {\n",
       "        vertical-align: middle;\n",
       "    }\n",
       "\n",
       "    .dataframe tbody tr th {\n",
       "        vertical-align: top;\n",
       "    }\n",
       "\n",
       "    .dataframe thead th {\n",
       "        text-align: right;\n",
       "    }\n",
       "</style>\n",
       "<table border=\"1\" class=\"dataframe\">\n",
       "  <thead>\n",
       "    <tr style=\"text-align: right;\">\n",
       "      <th></th>\n",
       "      <th>prediction</th>\n",
       "    </tr>\n",
       "  </thead>\n",
       "  <tbody>\n",
       "    <tr>\n",
       "      <th>0</th>\n",
       "      <td>0.004351</td>\n",
       "    </tr>\n",
       "    <tr>\n",
       "      <th>1</th>\n",
       "      <td>0.005344</td>\n",
       "    </tr>\n",
       "    <tr>\n",
       "      <th>2</th>\n",
       "      <td>0.001893</td>\n",
       "    </tr>\n",
       "    <tr>\n",
       "      <th>3</th>\n",
       "      <td>0.002585</td>\n",
       "    </tr>\n",
       "    <tr>\n",
       "      <th>4</th>\n",
       "      <td>0.009959</td>\n",
       "    </tr>\n",
       "  </tbody>\n",
       "</table>\n",
       "</div>"
      ],
      "text/plain": [
       "   prediction\n",
       "0    0.004351\n",
       "1    0.005344\n",
       "2    0.001893\n",
       "3    0.002585\n",
       "4    0.009959"
      ]
     },
     "execution_count": 101,
     "metadata": {},
     "output_type": "execute_result"
    }
   ],
   "source": [
    "df_normal = pd.DataFrame(norm_results,columns = ['prediction'])\n",
    "df_normal.head()"
   ]
  },
  {
   "cell_type": "markdown",
   "id": "5b8f9553",
   "metadata": {},
   "source": [
    "## Using threshold as .80\n",
    "#### prediction >= .80  -> considered egregious (identity_hate)\n",
    "#### prediction <.80 -> considered egregious ( non identity_hate)\n",
    "\n",
    "### I have used high threashould to reduce False Positives."
   ]
  },
  {
   "cell_type": "code",
   "execution_count": 102,
   "id": "3531507e",
   "metadata": {},
   "outputs": [
    {
     "data": {
      "text/html": [
       "<div>\n",
       "<style scoped>\n",
       "    .dataframe tbody tr th:only-of-type {\n",
       "        vertical-align: middle;\n",
       "    }\n",
       "\n",
       "    .dataframe tbody tr th {\n",
       "        vertical-align: top;\n",
       "    }\n",
       "\n",
       "    .dataframe thead th {\n",
       "        text-align: right;\n",
       "    }\n",
       "</style>\n",
       "<table border=\"1\" class=\"dataframe\">\n",
       "  <thead>\n",
       "    <tr style=\"text-align: right;\">\n",
       "      <th></th>\n",
       "      <th>prediction</th>\n",
       "    </tr>\n",
       "  </thead>\n",
       "  <tbody>\n",
       "    <tr>\n",
       "      <th>0</th>\n",
       "      <td>0.0</td>\n",
       "    </tr>\n",
       "    <tr>\n",
       "      <th>1</th>\n",
       "      <td>0.0</td>\n",
       "    </tr>\n",
       "    <tr>\n",
       "      <th>2</th>\n",
       "      <td>0.0</td>\n",
       "    </tr>\n",
       "    <tr>\n",
       "      <th>3</th>\n",
       "      <td>0.0</td>\n",
       "    </tr>\n",
       "    <tr>\n",
       "      <th>4</th>\n",
       "      <td>0.0</td>\n",
       "    </tr>\n",
       "  </tbody>\n",
       "</table>\n",
       "</div>"
      ],
      "text/plain": [
       "   prediction\n",
       "0         0.0\n",
       "1         0.0\n",
       "2         0.0\n",
       "3         0.0\n",
       "4         0.0"
      ]
     },
     "execution_count": 102,
     "metadata": {},
     "output_type": "execute_result"
    }
   ],
   "source": [
    "## The model is correctly able to predict the normal sentences - none of the sentences were identified \n",
    "## as containing identity hate which matches with the manual tagging\n",
    "for k in  df_normal.index:\n",
    "  if(df_normal['prediction'][k] < .80):\n",
    "    df_normal['prediction'][k] = 0\n",
    "  else:\n",
    "    df_normal['prediction'][k] = 1\n",
    "df_normal.head()"
   ]
  },
  {
   "cell_type": "code",
   "execution_count": 103,
   "id": "3514b6ee",
   "metadata": {},
   "outputs": [
    {
     "data": {
      "text/html": [
       "<div>\n",
       "<style scoped>\n",
       "    .dataframe tbody tr th:only-of-type {\n",
       "        vertical-align: middle;\n",
       "    }\n",
       "\n",
       "    .dataframe tbody tr th {\n",
       "        vertical-align: top;\n",
       "    }\n",
       "\n",
       "    .dataframe thead th {\n",
       "        text-align: right;\n",
       "    }\n",
       "</style>\n",
       "<table border=\"1\" class=\"dataframe\">\n",
       "  <thead>\n",
       "    <tr style=\"text-align: right;\">\n",
       "      <th></th>\n",
       "      <th>Text</th>\n",
       "      <th>identity_hate</th>\n",
       "    </tr>\n",
       "  </thead>\n",
       "  <tbody>\n",
       "    <tr>\n",
       "      <th>0</th>\n",
       "      <td>remove the fucking cunt put a fucking person o...</td>\n",
       "      <td>1</td>\n",
       "    </tr>\n",
       "    <tr>\n",
       "      <th>1</th>\n",
       "      <td>you fucking cunt answered get on the fucking line</td>\n",
       "      <td>1</td>\n",
       "    </tr>\n",
       "    <tr>\n",
       "      <th>2</th>\n",
       "      <td>i received an e_mail from you whore @side_spee...</td>\n",
       "      <td>1</td>\n",
       "    </tr>\n",
       "  </tbody>\n",
       "</table>\n",
       "</div>"
      ],
      "text/plain": [
       "                                                Text  identity_hate\n",
       "0  remove the fucking cunt put a fucking person o...              1\n",
       "1  you fucking cunt answered get on the fucking line              1\n",
       "2  i received an e_mail from you whore @side_spee...              1"
      ]
     },
     "execution_count": 103,
     "metadata": {},
     "output_type": "execute_result"
    }
   ],
   "source": [
    "# Now loading the dataset with Egregious utterances\n",
    "eval_egregious = pd.read_csv('data/evaluate_egregious_utterances.csv')\n",
    "eval_egregious.head(3)"
   ]
  },
  {
   "cell_type": "code",
   "execution_count": 104,
   "id": "12794afd",
   "metadata": {},
   "outputs": [],
   "source": [
    "eval_egregious['Text'] = eval_egregious['Text'].map(lambda x : clean_text(x))"
   ]
  },
  {
   "cell_type": "code",
   "execution_count": 105,
   "id": "cc6833cb",
   "metadata": {},
   "outputs": [],
   "source": [
    "egregious_test_sentences = eval_egregious[\"Text\"].fillna(\"CVxTz\").values\n",
    "list_classes = [ \"identity_hate\"]\n",
    "egregious_test_y = eval_egregious[list_classes].values"
   ]
  },
  {
   "cell_type": "code",
   "execution_count": 106,
   "id": "7b91bb90",
   "metadata": {},
   "outputs": [],
   "source": [
    "egregious_test_x = tokenizer(\n",
    "    text=list(egregious_test_sentences),\n",
    "    add_special_tokens=True,\n",
    "    max_length=max_length,\n",
    "    truncation=True,\n",
    "    padding='max_length', # padding=True initial value,\n",
    "    return_tensors='tf',\n",
    "    return_token_type_ids = False,\n",
    "    return_attention_mask = True,\n",
    "    verbose = True)"
   ]
  },
  {
   "cell_type": "code",
   "execution_count": 107,
   "id": "22d931c1",
   "metadata": {},
   "outputs": [
    {
     "name": "stdout",
     "output_type": "stream",
     "text": [
      "21/21 [==============================] - 117s 6s/step\n"
     ]
    }
   ],
   "source": [
    "egregious_results = model.predict(x={'input_ids': egregious_test_x['input_ids'], \n",
    "                                     'attention_mask': egregious_test_x['attention_mask']},batch_size=32)"
   ]
  },
  {
   "cell_type": "code",
   "execution_count": 108,
   "id": "8b9660c9",
   "metadata": {},
   "outputs": [
    {
     "data": {
      "text/html": [
       "<div>\n",
       "<style scoped>\n",
       "    .dataframe tbody tr th:only-of-type {\n",
       "        vertical-align: middle;\n",
       "    }\n",
       "\n",
       "    .dataframe tbody tr th {\n",
       "        vertical-align: top;\n",
       "    }\n",
       "\n",
       "    .dataframe thead th {\n",
       "        text-align: right;\n",
       "    }\n",
       "</style>\n",
       "<table border=\"1\" class=\"dataframe\">\n",
       "  <thead>\n",
       "    <tr style=\"text-align: right;\">\n",
       "      <th></th>\n",
       "      <th>prediction</th>\n",
       "    </tr>\n",
       "  </thead>\n",
       "  <tbody>\n",
       "    <tr>\n",
       "      <th>0</th>\n",
       "      <td>0.971379</td>\n",
       "    </tr>\n",
       "    <tr>\n",
       "      <th>1</th>\n",
       "      <td>0.985582</td>\n",
       "    </tr>\n",
       "    <tr>\n",
       "      <th>2</th>\n",
       "      <td>0.800719</td>\n",
       "    </tr>\n",
       "    <tr>\n",
       "      <th>3</th>\n",
       "      <td>0.193432</td>\n",
       "    </tr>\n",
       "    <tr>\n",
       "      <th>4</th>\n",
       "      <td>0.945528</td>\n",
       "    </tr>\n",
       "  </tbody>\n",
       "</table>\n",
       "</div>"
      ],
      "text/plain": [
       "   prediction\n",
       "0    0.971379\n",
       "1    0.985582\n",
       "2    0.800719\n",
       "3    0.193432\n",
       "4    0.945528"
      ]
     },
     "execution_count": 108,
     "metadata": {},
     "output_type": "execute_result"
    }
   ],
   "source": [
    "df_egregious = pd.DataFrame(egregious_results,columns = ['prediction'])\n",
    "df_egregious.head()"
   ]
  },
  {
   "cell_type": "markdown",
   "id": "2e8ce187",
   "metadata": {},
   "source": [
    "## Setting the threshold of .80,\n",
    "## 76% of the time the model is correctly able to predict the egregious sentences - containing identity hate\n"
   ]
  },
  {
   "cell_type": "code",
   "execution_count": 109,
   "id": "f1a5b6f0",
   "metadata": {},
   "outputs": [
    {
     "data": {
      "text/plain": [
       "prediction\n",
       "1.0           574\n",
       "0.0            93\n",
       "dtype: int64"
      ]
     },
     "execution_count": 109,
     "metadata": {},
     "output_type": "execute_result"
    }
   ],
   "source": [
    "for k in  df_egregious.index:\n",
    "  if(df_egregious['prediction'][k] >= .80):\n",
    "    df_egregious['prediction'][k] = 1\n",
    "  else:\n",
    "    df_egregious['prediction'][k] = 0\n",
    "df_egregious.value_counts()"
   ]
  },
  {
   "cell_type": "code",
   "execution_count": 110,
   "id": "28f47b4f",
   "metadata": {},
   "outputs": [],
   "source": [
    "eval_egregious['prediction'] = df_egregious['prediction']\n",
    "eval_normal['prediction'] = df_normal['prediction']\n",
    "df2 = eval_egregious\n",
    "df2 = df2.append(eval_normal)\n"
   ]
  },
  {
   "cell_type": "code",
   "execution_count": 111,
   "id": "5f018604",
   "metadata": {},
   "outputs": [
    {
     "data": {
      "image/png": "[encoded data removed]",
      "text/plain": [
       "<Figure size 432x288 with 2 Axes>"
      ]
     },
     "metadata": {
      "needs_background": "light"
     },
     "output_type": "display_data"
    }
   ],
   "source": [
    "# Confusion matrix\n",
    "from sklearn.metrics import confusion_matrix\n",
    "from sklearn.metrics import ConfusionMatrixDisplay\n",
    "\n",
    "cm = confusion_matrix(df2['prediction'], df2['identity_hate'])\n",
    "\n",
    "cm_display = ConfusionMatrixDisplay(cm).plot()"
   ]
  },
  {
   "cell_type": "markdown",
   "id": "0e37877c",
   "metadata": {},
   "source": [
    "## Overall accuracy on the real world data  0.8837, on training set our accuracy was : 0.9086"
   ]
  },
  {
   "cell_type": "code",
   "execution_count": null,
   "id": "99f2467c",
   "metadata": {},
   "outputs": [],
   "source": []
  }
 ],
 "metadata": {
  "kernelspec": {
   "display_name": "Python 3 (ipykernel)",
   "language": "python",
   "name": "python3"
  },
  "language_info": {
   "codemirror_mode": {
    "name": "ipython",
    "version": 3
   },
   "file_extension": ".py",
   "mimetype": "text/x-python",
   "name": "python",
   "nbconvert_exporter": "python",
   "pygments_lexer": "ipython3",
   "version": "3.8.2"
  }
 },
 "nbformat": 4,
 "nbformat_minor": 5
}
